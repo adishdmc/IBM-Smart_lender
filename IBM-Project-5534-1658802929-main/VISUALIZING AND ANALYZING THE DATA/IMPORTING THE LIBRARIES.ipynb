{
  "cells": [
    {
      "cell_type": "markdown",
      "id": "35856ec8",
      "metadata": {
        "id": "35856ec8"
      },
      "source": [
        "# Importing The Libraries\n"
      ]
    },
    {
      "cell_type": "code",
      "execution_count": null,
      "id": "030a6c55",
      "metadata": {
        "id": "030a6c55"
      },
      "outputs": [],
      "source": [
        "import pandas as pd\n",
        "import numpy as np\n",
        "import matplotlib.pyplot as plt\n",
        "import seaborn as sns\n",
        "%matplotlib inline\n",
        "import pickle\n",
        "import sklearn\n",
        "\n",
        "import warnings\n",
        "warnings.filterwarnings('ignore')\n"
      ]
    },
    {
      "cell_type": "code",
      "execution_count": null,
      "id": "c4016fca",
      "metadata": {
        "id": "c4016fca"
      },
      "outputs": [],
      "source": [
        "#for preprocessing\n",
        "from sklearn.preprocessing import LabelEncoder, OneHotEncoder\n",
        "from sklearn.impute import SimpleImputer\n"
      ]
    },
    {
      "cell_type": "code",
      "execution_count": null,
      "id": "9db73c80",
      "metadata": {
        "id": "9db73c80"
      },
      "outputs": [],
      "source": [
        "##scaling process\n",
        "from sklearn.preprocessing import scale\n",
        "from sklearn.preprocessing import StandardScaler\n"
      ]
    },
    {
      "cell_type": "code",
      "execution_count": null,
      "id": "86ac9abb",
      "metadata": {
        "id": "86ac9abb"
      },
      "outputs": [],
      "source": [
        "## Splitting the data\n",
        "from sklearn.model_selection import train_test_split\n",
        "from sklearn.model_selection import RandomizedSearchCV\n"
      ]
    },
    {
      "cell_type": "code",
      "execution_count": null,
      "id": "46434f6a",
      "metadata": {
        "id": "46434f6a"
      },
      "outputs": [],
      "source": [
        "##for modeling\n",
        "from sklearn.tree import DecisionTreeClassifier\n",
        "from sklearn.ensemble import RandomForestClassifier\n",
        "from sklearn.neighbors import KNeighborsClassifier\n"
      ]
    },
    {
      "cell_type": "code",
      "execution_count": null,
      "id": "e60ea4a7",
      "metadata": {
        "id": "e60ea4a7"
      },
      "outputs": [],
      "source": [
        "##for model evalation \n",
        "from sklearn.metrics import accuracy_score,confusion_matrix,classification_report,f1_score\n"
      ]
    }
  ],
  "metadata": {
    "kernelspec": {
      "display_name": "Python 3 (ipykernel)",
      "language": "python",
      "name": "python3"
    },
    "language_info": {
      "codemirror_mode": {
        "name": "ipython",
        "version": 3
      },
      "file_extension": ".py",
      "mimetype": "text/x-python",
      "name": "python",
      "nbconvert_exporter": "python",
      "pygments_lexer": "ipython3",
      "version": "3.9.13"
    },
    "colab": {
      "provenance": []
    }
  },
  "nbformat": 4,
  "nbformat_minor": 5
}