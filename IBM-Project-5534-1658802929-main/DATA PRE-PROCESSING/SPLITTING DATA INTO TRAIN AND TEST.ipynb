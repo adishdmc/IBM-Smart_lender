{
  "cells": [
    {
      "cell_type": "markdown",
      "id": "88a0a6c9",
      "metadata": {
        "id": "88a0a6c9"
      },
      "source": [
        "# Splitting Data Into Train And Test\n",
        "The dataset is already download in .csv format\n",
        "\n",
        "# IMPORTING THE PACKAGE\n"
      ]
    },
    {
      "cell_type": "code",
      "execution_count": null,
      "id": "fd902d97",
      "metadata": {
        "id": "fd902d97"
      },
      "outputs": [],
      "source": [
        "import numpy as np \n",
        "import pandas as pd\n",
        "\n",
        "import warnings\n",
        "warnings.filterwarnings('ignore')\n"
      ]
    },
    {
      "cell_type": "markdown",
      "id": "bc9c7e1b",
      "metadata": {
        "id": "bc9c7e1b"
      },
      "source": [
        "# Load the dataset\n"
      ]
    },
    {
      "cell_type": "code",
      "execution_count": null,
      "id": "7ce426f5",
      "metadata": {
        "id": "7ce426f5"
      },
      "outputs": [],
      "source": [
        "df=pd.read_csv(\"C:/Users/swake/Desktop/IBM project/loan_prediction.csv\")\n"
      ]
    },
    {
      "cell_type": "code",
      "execution_count": null,
      "id": "8ffa194d",
      "metadata": {
        "id": "8ffa194d",
        "outputId": "85868a75-f5f6-4851-d756-dec2367164bf"
      },
      "outputs": [
        {
          "data": {
            "text/html": [
              "<div>\n",
              "<style scoped>\n",
              "    .dataframe tbody tr th:only-of-type {\n",
              "        vertical-align: middle;\n",
              "    }\n",
              "\n",
              "    .dataframe tbody tr th {\n",
              "        vertical-align: top;\n",
              "    }\n",
              "\n",
              "    .dataframe thead th {\n",
              "        text-align: right;\n",
              "    }\n",
              "</style>\n",
              "<table border=\"1\" class=\"dataframe\">\n",
              "  <thead>\n",
              "    <tr style=\"text-align: right;\">\n",
              "      <th></th>\n",
              "      <th>Loan_ID</th>\n",
              "      <th>Gender</th>\n",
              "      <th>Married</th>\n",
              "      <th>Dependents</th>\n",
              "      <th>Education</th>\n",
              "      <th>Self_Employed</th>\n",
              "      <th>ApplicantIncome</th>\n",
              "      <th>CoapplicantIncome</th>\n",
              "      <th>LoanAmount</th>\n",
              "      <th>Loan_Amount_Term</th>\n",
              "      <th>Credit_History</th>\n",
              "      <th>Property_Area</th>\n",
              "      <th>Loan_Status</th>\n",
              "    </tr>\n",
              "  </thead>\n",
              "  <tbody>\n",
              "    <tr>\n",
              "      <th>0</th>\n",
              "      <td>LP001002</td>\n",
              "      <td>Male</td>\n",
              "      <td>No</td>\n",
              "      <td>0</td>\n",
              "      <td>Graduate</td>\n",
              "      <td>No</td>\n",
              "      <td>5849</td>\n",
              "      <td>0.0</td>\n",
              "      <td>NaN</td>\n",
              "      <td>360.0</td>\n",
              "      <td>1.0</td>\n",
              "      <td>Urban</td>\n",
              "      <td>Y</td>\n",
              "    </tr>\n",
              "    <tr>\n",
              "      <th>1</th>\n",
              "      <td>LP001003</td>\n",
              "      <td>Male</td>\n",
              "      <td>Yes</td>\n",
              "      <td>1</td>\n",
              "      <td>Graduate</td>\n",
              "      <td>No</td>\n",
              "      <td>4583</td>\n",
              "      <td>1508.0</td>\n",
              "      <td>128.0</td>\n",
              "      <td>360.0</td>\n",
              "      <td>1.0</td>\n",
              "      <td>Rural</td>\n",
              "      <td>N</td>\n",
              "    </tr>\n",
              "    <tr>\n",
              "      <th>2</th>\n",
              "      <td>LP001005</td>\n",
              "      <td>Male</td>\n",
              "      <td>Yes</td>\n",
              "      <td>0</td>\n",
              "      <td>Graduate</td>\n",
              "      <td>Yes</td>\n",
              "      <td>3000</td>\n",
              "      <td>0.0</td>\n",
              "      <td>66.0</td>\n",
              "      <td>360.0</td>\n",
              "      <td>1.0</td>\n",
              "      <td>Urban</td>\n",
              "      <td>Y</td>\n",
              "    </tr>\n",
              "    <tr>\n",
              "      <th>3</th>\n",
              "      <td>LP001006</td>\n",
              "      <td>Male</td>\n",
              "      <td>Yes</td>\n",
              "      <td>0</td>\n",
              "      <td>Not Graduate</td>\n",
              "      <td>No</td>\n",
              "      <td>2583</td>\n",
              "      <td>2358.0</td>\n",
              "      <td>120.0</td>\n",
              "      <td>360.0</td>\n",
              "      <td>1.0</td>\n",
              "      <td>Urban</td>\n",
              "      <td>Y</td>\n",
              "    </tr>\n",
              "    <tr>\n",
              "      <th>4</th>\n",
              "      <td>LP001008</td>\n",
              "      <td>Male</td>\n",
              "      <td>No</td>\n",
              "      <td>0</td>\n",
              "      <td>Graduate</td>\n",
              "      <td>No</td>\n",
              "      <td>6000</td>\n",
              "      <td>0.0</td>\n",
              "      <td>141.0</td>\n",
              "      <td>360.0</td>\n",
              "      <td>1.0</td>\n",
              "      <td>Urban</td>\n",
              "      <td>Y</td>\n",
              "    </tr>\n",
              "    <tr>\n",
              "      <th>...</th>\n",
              "      <td>...</td>\n",
              "      <td>...</td>\n",
              "      <td>...</td>\n",
              "      <td>...</td>\n",
              "      <td>...</td>\n",
              "      <td>...</td>\n",
              "      <td>...</td>\n",
              "      <td>...</td>\n",
              "      <td>...</td>\n",
              "      <td>...</td>\n",
              "      <td>...</td>\n",
              "      <td>...</td>\n",
              "      <td>...</td>\n",
              "    </tr>\n",
              "    <tr>\n",
              "      <th>609</th>\n",
              "      <td>LP002978</td>\n",
              "      <td>Female</td>\n",
              "      <td>No</td>\n",
              "      <td>0</td>\n",
              "      <td>Graduate</td>\n",
              "      <td>No</td>\n",
              "      <td>2900</td>\n",
              "      <td>0.0</td>\n",
              "      <td>71.0</td>\n",
              "      <td>360.0</td>\n",
              "      <td>1.0</td>\n",
              "      <td>Rural</td>\n",
              "      <td>Y</td>\n",
              "    </tr>\n",
              "    <tr>\n",
              "      <th>610</th>\n",
              "      <td>LP002979</td>\n",
              "      <td>Male</td>\n",
              "      <td>Yes</td>\n",
              "      <td>3+</td>\n",
              "      <td>Graduate</td>\n",
              "      <td>No</td>\n",
              "      <td>4106</td>\n",
              "      <td>0.0</td>\n",
              "      <td>40.0</td>\n",
              "      <td>180.0</td>\n",
              "      <td>1.0</td>\n",
              "      <td>Rural</td>\n",
              "      <td>Y</td>\n",
              "    </tr>\n",
              "    <tr>\n",
              "      <th>611</th>\n",
              "      <td>LP002983</td>\n",
              "      <td>Male</td>\n",
              "      <td>Yes</td>\n",
              "      <td>1</td>\n",
              "      <td>Graduate</td>\n",
              "      <td>No</td>\n",
              "      <td>8072</td>\n",
              "      <td>240.0</td>\n",
              "      <td>253.0</td>\n",
              "      <td>360.0</td>\n",
              "      <td>1.0</td>\n",
              "      <td>Urban</td>\n",
              "      <td>Y</td>\n",
              "    </tr>\n",
              "    <tr>\n",
              "      <th>612</th>\n",
              "      <td>LP002984</td>\n",
              "      <td>Male</td>\n",
              "      <td>Yes</td>\n",
              "      <td>2</td>\n",
              "      <td>Graduate</td>\n",
              "      <td>No</td>\n",
              "      <td>7583</td>\n",
              "      <td>0.0</td>\n",
              "      <td>187.0</td>\n",
              "      <td>360.0</td>\n",
              "      <td>1.0</td>\n",
              "      <td>Urban</td>\n",
              "      <td>Y</td>\n",
              "    </tr>\n",
              "    <tr>\n",
              "      <th>613</th>\n",
              "      <td>LP002990</td>\n",
              "      <td>Female</td>\n",
              "      <td>No</td>\n",
              "      <td>0</td>\n",
              "      <td>Graduate</td>\n",
              "      <td>Yes</td>\n",
              "      <td>4583</td>\n",
              "      <td>0.0</td>\n",
              "      <td>133.0</td>\n",
              "      <td>360.0</td>\n",
              "      <td>0.0</td>\n",
              "      <td>Semiurban</td>\n",
              "      <td>N</td>\n",
              "    </tr>\n",
              "  </tbody>\n",
              "</table>\n",
              "<p>614 rows × 13 columns</p>\n",
              "</div>"
            ],
            "text/plain": [
              "      Loan_ID  Gender Married Dependents     Education Self_Employed  \\\n",
              "0    LP001002    Male      No          0      Graduate            No   \n",
              "1    LP001003    Male     Yes          1      Graduate            No   \n",
              "2    LP001005    Male     Yes          0      Graduate           Yes   \n",
              "3    LP001006    Male     Yes          0  Not Graduate            No   \n",
              "4    LP001008    Male      No          0      Graduate            No   \n",
              "..        ...     ...     ...        ...           ...           ...   \n",
              "609  LP002978  Female      No          0      Graduate            No   \n",
              "610  LP002979    Male     Yes         3+      Graduate            No   \n",
              "611  LP002983    Male     Yes          1      Graduate            No   \n",
              "612  LP002984    Male     Yes          2      Graduate            No   \n",
              "613  LP002990  Female      No          0      Graduate           Yes   \n",
              "\n",
              "     ApplicantIncome  CoapplicantIncome  LoanAmount  Loan_Amount_Term  \\\n",
              "0               5849                0.0         NaN             360.0   \n",
              "1               4583             1508.0       128.0             360.0   \n",
              "2               3000                0.0        66.0             360.0   \n",
              "3               2583             2358.0       120.0             360.0   \n",
              "4               6000                0.0       141.0             360.0   \n",
              "..               ...                ...         ...               ...   \n",
              "609             2900                0.0        71.0             360.0   \n",
              "610             4106                0.0        40.0             180.0   \n",
              "611             8072              240.0       253.0             360.0   \n",
              "612             7583                0.0       187.0             360.0   \n",
              "613             4583                0.0       133.0             360.0   \n",
              "\n",
              "     Credit_History Property_Area Loan_Status  \n",
              "0               1.0         Urban           Y  \n",
              "1               1.0         Rural           N  \n",
              "2               1.0         Urban           Y  \n",
              "3               1.0         Urban           Y  \n",
              "4               1.0         Urban           Y  \n",
              "..              ...           ...         ...  \n",
              "609             1.0         Rural           Y  \n",
              "610             1.0         Rural           Y  \n",
              "611             1.0         Urban           Y  \n",
              "612             1.0         Urban           Y  \n",
              "613             0.0     Semiurban           N  \n",
              "\n",
              "[614 rows x 13 columns]"
            ]
          },
          "execution_count": 3,
          "metadata": {},
          "output_type": "execute_result"
        }
      ],
      "source": [
        "df"
      ]
    },
    {
      "cell_type": "code",
      "execution_count": null,
      "id": "bb5225bf",
      "metadata": {
        "id": "bb5225bf",
        "outputId": "3c6c5b4a-b5b5-4475-b5a1-42dad978dd5d"
      },
      "outputs": [
        {
          "data": {
            "text/plain": [
              "(614, 13)"
            ]
          },
          "execution_count": 4,
          "metadata": {},
          "output_type": "execute_result"
        }
      ],
      "source": [
        "df.shape\n"
      ]
    },
    {
      "cell_type": "markdown",
      "id": "0ca82426",
      "metadata": {
        "id": "0ca82426"
      },
      "source": [
        "# Handle the Missing values\n"
      ]
    },
    {
      "cell_type": "code",
      "execution_count": null,
      "id": "31ca6d38",
      "metadata": {
        "id": "31ca6d38",
        "outputId": "85d9e1d3-0913-4a60-ec58-a40cfd8cd877"
      },
      "outputs": [
        {
          "data": {
            "text/plain": [
              "Loan_ID               0\n",
              "Gender               13\n",
              "Married               3\n",
              "Dependents           15\n",
              "Education             0\n",
              "Self_Employed        32\n",
              "ApplicantIncome       0\n",
              "CoapplicantIncome     0\n",
              "LoanAmount           22\n",
              "Loan_Amount_Term     14\n",
              "Credit_History       50\n",
              "Property_Area         0\n",
              "Loan_Status           0\n",
              "dtype: int64"
            ]
          },
          "execution_count": 5,
          "metadata": {},
          "output_type": "execute_result"
        }
      ],
      "source": [
        "#checking the null values\n",
        "df.isnull().sum()\n"
      ]
    },
    {
      "cell_type": "markdown",
      "id": "2b738b8d",
      "metadata": {
        "id": "2b738b8d"
      },
      "source": [
        "# Treating the Null Value<br>\n",
        "We will fill the missing values in numeric data type using the mean value of that particular column and categorical data type using the most repeated value\n",
        "\n"
      ]
    },
    {
      "cell_type": "code",
      "execution_count": null,
      "id": "605d0dd9",
      "metadata": {
        "id": "605d0dd9"
      },
      "outputs": [],
      "source": [
        "numerical_features = df.select_dtypes(include = [np.number]).columns\n",
        "categorical_features = df.select_dtypes(include = [np.object]).columns\n"
      ]
    },
    {
      "cell_type": "code",
      "execution_count": null,
      "id": "24e16685",
      "metadata": {
        "id": "24e16685",
        "outputId": "ae563e92-ba94-4b2b-bd7c-58f654dba16f"
      },
      "outputs": [
        {
          "data": {
            "text/plain": [
              "Index(['ApplicantIncome', 'CoapplicantIncome', 'LoanAmount',\n",
              "       'Loan_Amount_Term', 'Credit_History'],\n",
              "      dtype='object')"
            ]
          },
          "execution_count": 7,
          "metadata": {},
          "output_type": "execute_result"
        }
      ],
      "source": [
        "numerical_features\n"
      ]
    },
    {
      "cell_type": "code",
      "execution_count": null,
      "id": "4dd9d34f",
      "metadata": {
        "id": "4dd9d34f",
        "outputId": "baa2aa5e-a40a-4b5c-c85f-d87a5c07e2d4"
      },
      "outputs": [
        {
          "data": {
            "text/plain": [
              "Index(['Loan_ID', 'Gender', 'Married', 'Dependents', 'Education',\n",
              "       'Self_Employed', 'Property_Area', 'Loan_Status'],\n",
              "      dtype='object')"
            ]
          },
          "execution_count": 8,
          "metadata": {},
          "output_type": "execute_result"
        }
      ],
      "source": [
        "categorical_features\n"
      ]
    },
    {
      "cell_type": "code",
      "execution_count": null,
      "id": "85d82ee7",
      "metadata": {
        "id": "85d82ee7"
      },
      "outputs": [],
      "source": [
        "df['Gender'] = df['Gender'].fillna(df['Gender'].mode()[0])\n"
      ]
    },
    {
      "cell_type": "code",
      "execution_count": null,
      "id": "1608d1d1",
      "metadata": {
        "id": "1608d1d1"
      },
      "outputs": [],
      "source": [
        "df['Married'] = df['Married'].fillna(df['Married'].mode()[0])\n"
      ]
    },
    {
      "cell_type": "code",
      "execution_count": null,
      "id": "149f8b8f",
      "metadata": {
        "id": "149f8b8f"
      },
      "outputs": [],
      "source": [
        "#replace + with non value \n",
        "df['Dependents'] = df['Dependents'].str.replace('+','')\n",
        "df['Dependents'] = df['Dependents'].fillna(df['Dependents'].mode()[0])\n",
        "df['Self_Employed'] = df['Self_Employed'].fillna(df['Self_Employed'].mode()[0])\n",
        "df['LoanAmount'] = df['LoanAmount'].fillna(df['LoanAmount'].mode()[0])\n",
        "df['Loan_Amount_Term'] = df['Loan_Amount_Term'].fillna(df['Loan_Amount_Term'].mode()[0])\n",
        "df['Credit_History'] = df['Credit_History'].fillna(df['Credit_History'].mode()[0])"
      ]
    },
    {
      "cell_type": "code",
      "execution_count": null,
      "id": "a136f011",
      "metadata": {
        "id": "a136f011",
        "outputId": "263272c4-969b-4b09-8b4b-5c1a351eb329"
      },
      "outputs": [
        {
          "data": {
            "text/plain": [
              "Loan_ID              0\n",
              "Gender               0\n",
              "Married              0\n",
              "Dependents           0\n",
              "Education            0\n",
              "Self_Employed        0\n",
              "ApplicantIncome      0\n",
              "CoapplicantIncome    0\n",
              "LoanAmount           0\n",
              "Loan_Amount_Term     0\n",
              "Credit_History       0\n",
              "Property_Area        0\n",
              "Loan_Status          0\n",
              "dtype: int64"
            ]
          },
          "execution_count": 12,
          "metadata": {},
          "output_type": "execute_result"
        }
      ],
      "source": [
        "#checking the null values now\n",
        "df.isnull().sum()\n"
      ]
    },
    {
      "cell_type": "markdown",
      "id": "4488df2e",
      "metadata": {
        "id": "4488df2e"
      },
      "source": [
        "# Handle the Missing values\n"
      ]
    },
    {
      "cell_type": "code",
      "execution_count": null,
      "id": "66029b1c",
      "metadata": {
        "id": "66029b1c",
        "outputId": "2bcf2606-8c76-4f42-c99c-a6d1b68a690f"
      },
      "outputs": [
        {
          "data": {
            "text/plain": [
              "Index(['Loan_ID', 'Gender', 'Married', 'Dependents', 'Education',\n",
              "       'Self_Employed', 'Property_Area', 'Loan_Status'],\n",
              "      dtype='object')"
            ]
          },
          "execution_count": 13,
          "metadata": {},
          "output_type": "execute_result"
        }
      ],
      "source": [
        "df.select_dtypes(include='object').columns\n"
      ]
    },
    {
      "cell_type": "code",
      "execution_count": null,
      "id": "6c103726",
      "metadata": {
        "id": "6c103726",
        "outputId": "6e893491-74c0-412e-f962-0c2af706dcf6"
      },
      "outputs": [
        {
          "data": {
            "text/plain": [
              "array(['Male', 'Female'], dtype=object)"
            ]
          },
          "execution_count": 14,
          "metadata": {},
          "output_type": "execute_result"
        }
      ],
      "source": [
        "df['Gender'].unique()\n"
      ]
    },
    {
      "cell_type": "code",
      "execution_count": null,
      "id": "4a2c055a",
      "metadata": {
        "id": "4a2c055a"
      },
      "outputs": [],
      "source": [
        "df['Gender'].replace({'Male':1,'Female':0},inplace=True)\n"
      ]
    },
    {
      "cell_type": "code",
      "execution_count": null,
      "id": "a67a7fb1",
      "metadata": {
        "id": "a67a7fb1",
        "outputId": "c24f616f-6f5d-4fb3-f8d9-2f8566cf708d"
      },
      "outputs": [
        {
          "data": {
            "text/plain": [
              "array(['No', 'Yes'], dtype=object)"
            ]
          },
          "execution_count": 16,
          "metadata": {},
          "output_type": "execute_result"
        }
      ],
      "source": [
        "df['Married'].unique()\n"
      ]
    },
    {
      "cell_type": "code",
      "execution_count": null,
      "id": "33a3dc78",
      "metadata": {
        "id": "33a3dc78"
      },
      "outputs": [],
      "source": [
        "df['Married'].replace({'Yes':1,'No':0},inplace=True)\n"
      ]
    },
    {
      "cell_type": "code",
      "execution_count": null,
      "id": "853c68d3",
      "metadata": {
        "id": "853c68d3",
        "outputId": "346ff4b6-2df4-4421-a34a-c53fbcf99847"
      },
      "outputs": [
        {
          "data": {
            "text/plain": [
              "array(['0', '1', '2', '3'], dtype=object)"
            ]
          },
          "execution_count": 18,
          "metadata": {},
          "output_type": "execute_result"
        }
      ],
      "source": [
        "df['Dependents'].unique()\n"
      ]
    },
    {
      "cell_type": "code",
      "execution_count": null,
      "id": "3342b352",
      "metadata": {
        "id": "3342b352"
      },
      "outputs": [],
      "source": [
        "df['Dependents'].replace({'0':0,'1':1,'2':2,'3':3},inplace=True)\n"
      ]
    },
    {
      "cell_type": "code",
      "execution_count": null,
      "id": "7f649010",
      "metadata": {
        "id": "7f649010",
        "outputId": "0b0ff551-f610-4feb-961f-1bf33e1feff3"
      },
      "outputs": [
        {
          "data": {
            "text/plain": [
              "array(['No', 'Yes'], dtype=object)"
            ]
          },
          "execution_count": 20,
          "metadata": {},
          "output_type": "execute_result"
        }
      ],
      "source": [
        "df['Self_Employed'].unique()\n"
      ]
    },
    {
      "cell_type": "code",
      "execution_count": null,
      "id": "4b701dee",
      "metadata": {
        "id": "4b701dee"
      },
      "outputs": [],
      "source": [
        "df['Self_Employed'].replace({'Yes':1,'No':0},inplace=True)\n"
      ]
    },
    {
      "cell_type": "code",
      "execution_count": null,
      "id": "bad262b5",
      "metadata": {
        "id": "bad262b5",
        "outputId": "9440c7c0-77c0-4345-f601-ddee62ca56ed"
      },
      "outputs": [
        {
          "data": {
            "text/plain": [
              "array(['Urban', 'Rural', 'Semiurban'], dtype=object)"
            ]
          },
          "execution_count": 22,
          "metadata": {},
          "output_type": "execute_result"
        }
      ],
      "source": [
        "df['Property_Area'].unique()\n"
      ]
    },
    {
      "cell_type": "code",
      "execution_count": null,
      "id": "2c8c13dd",
      "metadata": {
        "id": "2c8c13dd"
      },
      "outputs": [],
      "source": [
        "df['Property_Area'].replace({'Urban':2,'Rural':0,'Semiurban':1},inplace=True)\n"
      ]
    },
    {
      "cell_type": "code",
      "execution_count": null,
      "id": "1499b55a",
      "metadata": {
        "id": "1499b55a",
        "outputId": "e4380b0a-b0e1-443c-f26f-5b7a2f90c7ca"
      },
      "outputs": [
        {
          "data": {
            "text/plain": [
              "array(['Y', 'N'], dtype=object)"
            ]
          },
          "execution_count": 24,
          "metadata": {},
          "output_type": "execute_result"
        }
      ],
      "source": [
        "df['Loan_Status'].unique()\n"
      ]
    },
    {
      "cell_type": "code",
      "execution_count": null,
      "id": "aaf22be1",
      "metadata": {
        "id": "aaf22be1"
      },
      "outputs": [],
      "source": [
        "df['Loan_Status'].replace({'Y':1,'N':0},inplace=True)\n"
      ]
    },
    {
      "cell_type": "code",
      "execution_count": null,
      "id": "873042ce",
      "metadata": {
        "id": "873042ce",
        "outputId": "fddc252e-36f3-4d95-8186-844c14a2442e"
      },
      "outputs": [
        {
          "data": {
            "text/plain": [
              "array(['Graduate', 'Not Graduate'], dtype=object)"
            ]
          },
          "execution_count": 26,
          "metadata": {},
          "output_type": "execute_result"
        }
      ],
      "source": [
        "df['Education'].unique()\n"
      ]
    },
    {
      "cell_type": "code",
      "execution_count": null,
      "id": "b7eaa022",
      "metadata": {
        "id": "b7eaa022"
      },
      "outputs": [],
      "source": [
        "df['Education'].replace({'Graduate':1,'Not Graduate':0},inplace=True)\n"
      ]
    },
    {
      "cell_type": "code",
      "execution_count": null,
      "id": "738f5611",
      "metadata": {
        "id": "738f5611"
      },
      "outputs": [],
      "source": [
        "df['CoapplicantIncome']=df['CoapplicantIncome'].astype(\"int64\")\n",
        "df['LoanAmount']=df['LoanAmount'].astype(\"int64\")\n",
        "df['Loan_Amount_Term']=df['Loan_Amount_Term'].astype(\"int64\")\n",
        "df['Credit_History']=df['Credit_History'].astype(\"int64\")\n"
      ]
    },
    {
      "cell_type": "code",
      "execution_count": null,
      "id": "4e72aa9a",
      "metadata": {
        "id": "4e72aa9a"
      },
      "outputs": [],
      "source": [
        "# dummy columns are created for the categories in Loan_ID\n",
        "from sklearn.preprocessing import LabelEncoder\n",
        "le = LabelEncoder()\n",
        "df['Loan_ID'] = le.fit_transform(df.Loan_ID)\n"
      ]
    },
    {
      "cell_type": "code",
      "execution_count": null,
      "id": "9d6a4941",
      "metadata": {
        "id": "9d6a4941",
        "outputId": "cdddca95-824f-4260-a64b-1e6598a57d95"
      },
      "outputs": [
        {
          "data": {
            "text/html": [
              "<div>\n",
              "<style scoped>\n",
              "    .dataframe tbody tr th:only-of-type {\n",
              "        vertical-align: middle;\n",
              "    }\n",
              "\n",
              "    .dataframe tbody tr th {\n",
              "        vertical-align: top;\n",
              "    }\n",
              "\n",
              "    .dataframe thead th {\n",
              "        text-align: right;\n",
              "    }\n",
              "</style>\n",
              "<table border=\"1\" class=\"dataframe\">\n",
              "  <thead>\n",
              "    <tr style=\"text-align: right;\">\n",
              "      <th></th>\n",
              "      <th>Loan_ID</th>\n",
              "      <th>Gender</th>\n",
              "      <th>Married</th>\n",
              "      <th>Dependents</th>\n",
              "      <th>Education</th>\n",
              "      <th>Self_Employed</th>\n",
              "      <th>ApplicantIncome</th>\n",
              "      <th>CoapplicantIncome</th>\n",
              "      <th>LoanAmount</th>\n",
              "      <th>Loan_Amount_Term</th>\n",
              "      <th>Credit_History</th>\n",
              "      <th>Property_Area</th>\n",
              "      <th>Loan_Status</th>\n",
              "    </tr>\n",
              "  </thead>\n",
              "  <tbody>\n",
              "    <tr>\n",
              "      <th>0</th>\n",
              "      <td>0</td>\n",
              "      <td>1</td>\n",
              "      <td>0</td>\n",
              "      <td>0</td>\n",
              "      <td>1</td>\n",
              "      <td>0</td>\n",
              "      <td>5849</td>\n",
              "      <td>0</td>\n",
              "      <td>120</td>\n",
              "      <td>360</td>\n",
              "      <td>1</td>\n",
              "      <td>2</td>\n",
              "      <td>1</td>\n",
              "    </tr>\n",
              "    <tr>\n",
              "      <th>1</th>\n",
              "      <td>1</td>\n",
              "      <td>1</td>\n",
              "      <td>1</td>\n",
              "      <td>1</td>\n",
              "      <td>1</td>\n",
              "      <td>0</td>\n",
              "      <td>4583</td>\n",
              "      <td>1508</td>\n",
              "      <td>128</td>\n",
              "      <td>360</td>\n",
              "      <td>1</td>\n",
              "      <td>0</td>\n",
              "      <td>0</td>\n",
              "    </tr>\n",
              "    <tr>\n",
              "      <th>2</th>\n",
              "      <td>2</td>\n",
              "      <td>1</td>\n",
              "      <td>1</td>\n",
              "      <td>0</td>\n",
              "      <td>1</td>\n",
              "      <td>1</td>\n",
              "      <td>3000</td>\n",
              "      <td>0</td>\n",
              "      <td>66</td>\n",
              "      <td>360</td>\n",
              "      <td>1</td>\n",
              "      <td>2</td>\n",
              "      <td>1</td>\n",
              "    </tr>\n",
              "    <tr>\n",
              "      <th>3</th>\n",
              "      <td>3</td>\n",
              "      <td>1</td>\n",
              "      <td>1</td>\n",
              "      <td>0</td>\n",
              "      <td>0</td>\n",
              "      <td>0</td>\n",
              "      <td>2583</td>\n",
              "      <td>2358</td>\n",
              "      <td>120</td>\n",
              "      <td>360</td>\n",
              "      <td>1</td>\n",
              "      <td>2</td>\n",
              "      <td>1</td>\n",
              "    </tr>\n",
              "    <tr>\n",
              "      <th>4</th>\n",
              "      <td>4</td>\n",
              "      <td>1</td>\n",
              "      <td>0</td>\n",
              "      <td>0</td>\n",
              "      <td>1</td>\n",
              "      <td>0</td>\n",
              "      <td>6000</td>\n",
              "      <td>0</td>\n",
              "      <td>141</td>\n",
              "      <td>360</td>\n",
              "      <td>1</td>\n",
              "      <td>2</td>\n",
              "      <td>1</td>\n",
              "    </tr>\n",
              "  </tbody>\n",
              "</table>\n",
              "</div>"
            ],
            "text/plain": [
              "   Loan_ID  Gender  Married  Dependents  Education  Self_Employed  \\\n",
              "0        0       1        0           0          1              0   \n",
              "1        1       1        1           1          1              0   \n",
              "2        2       1        1           0          1              1   \n",
              "3        3       1        1           0          0              0   \n",
              "4        4       1        0           0          1              0   \n",
              "\n",
              "   ApplicantIncome  CoapplicantIncome  LoanAmount  Loan_Amount_Term  \\\n",
              "0             5849                  0         120               360   \n",
              "1             4583               1508         128               360   \n",
              "2             3000                  0          66               360   \n",
              "3             2583               2358         120               360   \n",
              "4             6000                  0         141               360   \n",
              "\n",
              "   Credit_History  Property_Area  Loan_Status  \n",
              "0               1              2            1  \n",
              "1               1              0            0  \n",
              "2               1              2            1  \n",
              "3               1              2            1  \n",
              "4               1              2            1  "
            ]
          },
          "execution_count": 30,
          "metadata": {},
          "output_type": "execute_result"
        }
      ],
      "source": [
        "df.head()\n"
      ]
    },
    {
      "cell_type": "code",
      "execution_count": null,
      "id": "23aa515c",
      "metadata": {
        "id": "23aa515c"
      },
      "outputs": [],
      "source": [
        "# dummy columns are created for the categories in Loan_ID\n",
        "from sklearn.preprocessing import LabelEncoder\n",
        "le = LabelEncoder()\n",
        "df['Loan_ID'] = le.fit_transform(df.Loan_ID)"
      ]
    },
    {
      "cell_type": "code",
      "execution_count": null,
      "id": "f3a9d625",
      "metadata": {
        "id": "f3a9d625",
        "outputId": "7199c784-d3b1-4cbb-b84f-ec205acb250b"
      },
      "outputs": [
        {
          "data": {
            "text/html": [
              "<div>\n",
              "<style scoped>\n",
              "    .dataframe tbody tr th:only-of-type {\n",
              "        vertical-align: middle;\n",
              "    }\n",
              "\n",
              "    .dataframe tbody tr th {\n",
              "        vertical-align: top;\n",
              "    }\n",
              "\n",
              "    .dataframe thead th {\n",
              "        text-align: right;\n",
              "    }\n",
              "</style>\n",
              "<table border=\"1\" class=\"dataframe\">\n",
              "  <thead>\n",
              "    <tr style=\"text-align: right;\">\n",
              "      <th></th>\n",
              "      <th>Loan_ID</th>\n",
              "      <th>Gender</th>\n",
              "      <th>Married</th>\n",
              "      <th>Dependents</th>\n",
              "      <th>Education</th>\n",
              "      <th>Self_Employed</th>\n",
              "      <th>ApplicantIncome</th>\n",
              "      <th>CoapplicantIncome</th>\n",
              "      <th>LoanAmount</th>\n",
              "      <th>Loan_Amount_Term</th>\n",
              "      <th>Credit_History</th>\n",
              "      <th>Property_Area</th>\n",
              "      <th>Loan_Status</th>\n",
              "    </tr>\n",
              "  </thead>\n",
              "  <tbody>\n",
              "    <tr>\n",
              "      <th>0</th>\n",
              "      <td>0</td>\n",
              "      <td>1</td>\n",
              "      <td>0</td>\n",
              "      <td>0</td>\n",
              "      <td>1</td>\n",
              "      <td>0</td>\n",
              "      <td>5849</td>\n",
              "      <td>0</td>\n",
              "      <td>120</td>\n",
              "      <td>360</td>\n",
              "      <td>1</td>\n",
              "      <td>2</td>\n",
              "      <td>1</td>\n",
              "    </tr>\n",
              "    <tr>\n",
              "      <th>1</th>\n",
              "      <td>1</td>\n",
              "      <td>1</td>\n",
              "      <td>1</td>\n",
              "      <td>1</td>\n",
              "      <td>1</td>\n",
              "      <td>0</td>\n",
              "      <td>4583</td>\n",
              "      <td>1508</td>\n",
              "      <td>128</td>\n",
              "      <td>360</td>\n",
              "      <td>1</td>\n",
              "      <td>0</td>\n",
              "      <td>0</td>\n",
              "    </tr>\n",
              "    <tr>\n",
              "      <th>2</th>\n",
              "      <td>2</td>\n",
              "      <td>1</td>\n",
              "      <td>1</td>\n",
              "      <td>0</td>\n",
              "      <td>1</td>\n",
              "      <td>1</td>\n",
              "      <td>3000</td>\n",
              "      <td>0</td>\n",
              "      <td>66</td>\n",
              "      <td>360</td>\n",
              "      <td>1</td>\n",
              "      <td>2</td>\n",
              "      <td>1</td>\n",
              "    </tr>\n",
              "    <tr>\n",
              "      <th>3</th>\n",
              "      <td>3</td>\n",
              "      <td>1</td>\n",
              "      <td>1</td>\n",
              "      <td>0</td>\n",
              "      <td>0</td>\n",
              "      <td>0</td>\n",
              "      <td>2583</td>\n",
              "      <td>2358</td>\n",
              "      <td>120</td>\n",
              "      <td>360</td>\n",
              "      <td>1</td>\n",
              "      <td>2</td>\n",
              "      <td>1</td>\n",
              "    </tr>\n",
              "    <tr>\n",
              "      <th>4</th>\n",
              "      <td>4</td>\n",
              "      <td>1</td>\n",
              "      <td>0</td>\n",
              "      <td>0</td>\n",
              "      <td>1</td>\n",
              "      <td>0</td>\n",
              "      <td>6000</td>\n",
              "      <td>0</td>\n",
              "      <td>141</td>\n",
              "      <td>360</td>\n",
              "      <td>1</td>\n",
              "      <td>2</td>\n",
              "      <td>1</td>\n",
              "    </tr>\n",
              "  </tbody>\n",
              "</table>\n",
              "</div>"
            ],
            "text/plain": [
              "   Loan_ID  Gender  Married  Dependents  Education  Self_Employed  \\\n",
              "0        0       1        0           0          1              0   \n",
              "1        1       1        1           1          1              0   \n",
              "2        2       1        1           0          1              1   \n",
              "3        3       1        1           0          0              0   \n",
              "4        4       1        0           0          1              0   \n",
              "\n",
              "   ApplicantIncome  CoapplicantIncome  LoanAmount  Loan_Amount_Term  \\\n",
              "0             5849                  0         120               360   \n",
              "1             4583               1508         128               360   \n",
              "2             3000                  0          66               360   \n",
              "3             2583               2358         120               360   \n",
              "4             6000                  0         141               360   \n",
              "\n",
              "   Credit_History  Property_Area  Loan_Status  \n",
              "0               1              2            1  \n",
              "1               1              0            0  \n",
              "2               1              2            1  \n",
              "3               1              2            1  \n",
              "4               1              2            1  "
            ]
          },
          "execution_count": 32,
          "metadata": {},
          "output_type": "execute_result"
        }
      ],
      "source": [
        "df.head()\n"
      ]
    },
    {
      "cell_type": "markdown",
      "id": "d6fd77ac",
      "metadata": {
        "id": "d6fd77ac"
      },
      "source": [
        "# Balancing The Dataset\n"
      ]
    },
    {
      "cell_type": "code",
      "execution_count": null,
      "id": "a76456f0",
      "metadata": {
        "id": "a76456f0"
      },
      "outputs": [],
      "source": [
        "from imblearn.combine import SMOTETomek\n"
      ]
    },
    {
      "cell_type": "code",
      "execution_count": null,
      "id": "ac51fbde",
      "metadata": {
        "id": "ac51fbde"
      },
      "outputs": [],
      "source": [
        "smote = SMOTETomek(0.90)\n"
      ]
    },
    {
      "cell_type": "code",
      "execution_count": null,
      "id": "a4fb5623",
      "metadata": {
        "id": "a4fb5623"
      },
      "outputs": [],
      "source": [
        "#dividing the dataset into dependent and independent y and x respectively\n",
        "\n",
        "y = df['Loan_Status']\n",
        "x = df.drop(columns=['Loan_Status'],axis=1)\n"
      ]
    },
    {
      "cell_type": "code",
      "execution_count": null,
      "id": "9f49dfff",
      "metadata": {
        "id": "9f49dfff"
      },
      "outputs": [],
      "source": [
        "#creating the new x and y for balance data\n",
        "x_bal,y_bal = smote.fit_resample(x,y)\n"
      ]
    },
    {
      "cell_type": "code",
      "execution_count": null,
      "id": "df8b9124",
      "metadata": {
        "id": "df8b9124",
        "outputId": "bba31d23-7553-4baf-e4c1-0f614bbb9aee"
      },
      "outputs": [
        {
          "name": "stdout",
          "output_type": "stream",
          "text": [
            "1    422\n",
            "0    192\n",
            "Name: Loan_Status, dtype: int64\n",
            "1    367\n",
            "0    324\n",
            "Name: Loan_Status, dtype: int64\n"
          ]
        }
      ],
      "source": [
        "#printing the value before and after balancing \n",
        "print(y.value_counts())\n",
        "print(y_bal.value_counts())\n"
      ]
    },
    {
      "cell_type": "markdown",
      "id": "b47f9442",
      "metadata": {
        "id": "b47f9442"
      },
      "source": [
        "# Scaling The Data\n"
      ]
    },
    {
      "cell_type": "code",
      "execution_count": null,
      "id": "06bec0dc",
      "metadata": {
        "id": "06bec0dc"
      },
      "outputs": [],
      "source": [
        "from sklearn.preprocessing import StandardScaler\n"
      ]
    },
    {
      "cell_type": "code",
      "execution_count": null,
      "id": "2acea1eb",
      "metadata": {
        "id": "2acea1eb"
      },
      "outputs": [],
      "source": [
        "sc = StandardScaler()\n",
        "x_bal = sc.fit_transform(x_bal)\n"
      ]
    },
    {
      "cell_type": "code",
      "execution_count": null,
      "id": "af3377a4",
      "metadata": {
        "id": "af3377a4"
      },
      "outputs": [],
      "source": [
        "x_bal = pd.DataFrame(x_bal)\n"
      ]
    },
    {
      "cell_type": "code",
      "execution_count": null,
      "id": "2f516f7b",
      "metadata": {
        "id": "2f516f7b",
        "outputId": "59ef85d4-8321-421f-ffc4-35deb6604fc2"
      },
      "outputs": [
        {
          "data": {
            "text/html": [
              "<div>\n",
              "<style scoped>\n",
              "    .dataframe tbody tr th:only-of-type {\n",
              "        vertical-align: middle;\n",
              "    }\n",
              "\n",
              "    .dataframe tbody tr th {\n",
              "        vertical-align: top;\n",
              "    }\n",
              "\n",
              "    .dataframe thead th {\n",
              "        text-align: right;\n",
              "    }\n",
              "</style>\n",
              "<table border=\"1\" class=\"dataframe\">\n",
              "  <thead>\n",
              "    <tr style=\"text-align: right;\">\n",
              "      <th></th>\n",
              "      <th>0</th>\n",
              "      <th>1</th>\n",
              "      <th>2</th>\n",
              "      <th>3</th>\n",
              "      <th>4</th>\n",
              "      <th>5</th>\n",
              "      <th>6</th>\n",
              "      <th>7</th>\n",
              "      <th>8</th>\n",
              "      <th>9</th>\n",
              "      <th>10</th>\n",
              "      <th>11</th>\n",
              "    </tr>\n",
              "  </thead>\n",
              "  <tbody>\n",
              "    <tr>\n",
              "      <th>0</th>\n",
              "      <td>-1.782138</td>\n",
              "      <td>0.53104</td>\n",
              "      <td>-1.189993</td>\n",
              "      <td>-0.704194</td>\n",
              "      <td>0.591278</td>\n",
              "      <td>-0.335740</td>\n",
              "      <td>0.077344</td>\n",
              "      <td>-0.547035</td>\n",
              "      <td>-0.293141</td>\n",
              "      <td>0.298086</td>\n",
              "      <td>0.606891</td>\n",
              "      <td>1.350139</td>\n",
              "    </tr>\n",
              "    <tr>\n",
              "      <th>1</th>\n",
              "      <td>-1.776341</td>\n",
              "      <td>0.53104</td>\n",
              "      <td>0.840341</td>\n",
              "      <td>0.340008</td>\n",
              "      <td>0.591278</td>\n",
              "      <td>-0.335740</td>\n",
              "      <td>-0.139563</td>\n",
              "      <td>0.003648</td>\n",
              "      <td>-0.195592</td>\n",
              "      <td>0.298086</td>\n",
              "      <td>0.606891</td>\n",
              "      <td>-1.209384</td>\n",
              "    </tr>\n",
              "    <tr>\n",
              "      <th>2</th>\n",
              "      <td>-1.770544</td>\n",
              "      <td>0.53104</td>\n",
              "      <td>0.840341</td>\n",
              "      <td>-0.704194</td>\n",
              "      <td>0.591278</td>\n",
              "      <td>2.978494</td>\n",
              "      <td>-0.410784</td>\n",
              "      <td>-0.547035</td>\n",
              "      <td>-0.951596</td>\n",
              "      <td>0.298086</td>\n",
              "      <td>0.606891</td>\n",
              "      <td>1.350139</td>\n",
              "    </tr>\n",
              "    <tr>\n",
              "      <th>3</th>\n",
              "      <td>-1.764747</td>\n",
              "      <td>0.53104</td>\n",
              "      <td>0.840341</td>\n",
              "      <td>-0.704194</td>\n",
              "      <td>-1.691253</td>\n",
              "      <td>-0.335740</td>\n",
              "      <td>-0.482230</td>\n",
              "      <td>0.314046</td>\n",
              "      <td>-0.293141</td>\n",
              "      <td>0.298086</td>\n",
              "      <td>0.606891</td>\n",
              "      <td>1.350139</td>\n",
              "    </tr>\n",
              "    <tr>\n",
              "      <th>4</th>\n",
              "      <td>-1.758950</td>\n",
              "      <td>0.53104</td>\n",
              "      <td>-1.189993</td>\n",
              "      <td>-0.704194</td>\n",
              "      <td>0.591278</td>\n",
              "      <td>-0.335740</td>\n",
              "      <td>0.103216</td>\n",
              "      <td>-0.547035</td>\n",
              "      <td>-0.037075</td>\n",
              "      <td>0.298086</td>\n",
              "      <td>0.606891</td>\n",
              "      <td>1.350139</td>\n",
              "    </tr>\n",
              "  </tbody>\n",
              "</table>\n",
              "</div>"
            ],
            "text/plain": [
              "         0        1         2         3         4         5         6   \\\n",
              "0 -1.782138  0.53104 -1.189993 -0.704194  0.591278 -0.335740  0.077344   \n",
              "1 -1.776341  0.53104  0.840341  0.340008  0.591278 -0.335740 -0.139563   \n",
              "2 -1.770544  0.53104  0.840341 -0.704194  0.591278  2.978494 -0.410784   \n",
              "3 -1.764747  0.53104  0.840341 -0.704194 -1.691253 -0.335740 -0.482230   \n",
              "4 -1.758950  0.53104 -1.189993 -0.704194  0.591278 -0.335740  0.103216   \n",
              "\n",
              "         7         8         9         10        11  \n",
              "0 -0.547035 -0.293141  0.298086  0.606891  1.350139  \n",
              "1  0.003648 -0.195592  0.298086  0.606891 -1.209384  \n",
              "2 -0.547035 -0.951596  0.298086  0.606891  1.350139  \n",
              "3  0.314046 -0.293141  0.298086  0.606891  1.350139  \n",
              "4 -0.547035 -0.037075  0.298086  0.606891  1.350139  "
            ]
          },
          "execution_count": 41,
          "metadata": {},
          "output_type": "execute_result"
        }
      ],
      "source": [
        "x_bal.head()\n"
      ]
    },
    {
      "cell_type": "markdown",
      "id": "241565d3",
      "metadata": {
        "id": "241565d3"
      },
      "source": [
        "We will perform scaling only on the input values\n",
        "\n"
      ]
    },
    {
      "cell_type": "markdown",
      "id": "8c447190",
      "metadata": {
        "id": "8c447190"
      },
      "source": [
        "# Splitting Data Into Train And Test\n"
      ]
    },
    {
      "cell_type": "code",
      "execution_count": null,
      "id": "cc05ba00",
      "metadata": {
        "id": "cc05ba00"
      },
      "outputs": [],
      "source": [
        "# splitting the data into training and testing set\n",
        "\n",
        "from sklearn.model_selection import train_test_split\n"
      ]
    },
    {
      "cell_type": "code",
      "execution_count": null,
      "id": "1857abd0",
      "metadata": {
        "id": "1857abd0"
      },
      "outputs": [],
      "source": [
        "x_train, x_test, y_train, y_test = train_test_split(x_bal, y_bal, test_size = 0.33, random_state = 42)\n"
      ]
    },
    {
      "cell_type": "code",
      "execution_count": null,
      "id": "cd3653d3",
      "metadata": {
        "id": "cd3653d3",
        "outputId": "bf056d62-faa2-4413-db25-fcfbcd770e3a"
      },
      "outputs": [
        {
          "name": "stdout",
          "output_type": "stream",
          "text": [
            "(462, 12)\n",
            "(462,)\n",
            "(229, 12)\n",
            "(229,)\n"
          ]
        }
      ],
      "source": [
        "print(x_train.shape)\n",
        "print(y_train.shape)\n",
        "print(x_test.shape)\n",
        "print(y_test.shape)"
      ]
    },
    {
      "cell_type": "code",
      "execution_count": null,
      "id": "ceee1d74",
      "metadata": {
        "id": "ceee1d74",
        "outputId": "9d004a31-a46a-41fe-face-f1d316677236"
      },
      "outputs": [
        {
          "data": {
            "text/html": [
              "<div>\n",
              "<style scoped>\n",
              "    .dataframe tbody tr th:only-of-type {\n",
              "        vertical-align: middle;\n",
              "    }\n",
              "\n",
              "    .dataframe tbody tr th {\n",
              "        vertical-align: top;\n",
              "    }\n",
              "\n",
              "    .dataframe thead th {\n",
              "        text-align: right;\n",
              "    }\n",
              "</style>\n",
              "<table border=\"1\" class=\"dataframe\">\n",
              "  <thead>\n",
              "    <tr style=\"text-align: right;\">\n",
              "      <th></th>\n",
              "      <th>0</th>\n",
              "      <th>1</th>\n",
              "      <th>2</th>\n",
              "      <th>3</th>\n",
              "      <th>4</th>\n",
              "      <th>5</th>\n",
              "      <th>6</th>\n",
              "      <th>7</th>\n",
              "      <th>8</th>\n",
              "      <th>9</th>\n",
              "      <th>10</th>\n",
              "      <th>11</th>\n",
              "    </tr>\n",
              "  </thead>\n",
              "  <tbody>\n",
              "    <tr>\n",
              "      <th>137</th>\n",
              "      <td>-0.854644</td>\n",
              "      <td>0.53104</td>\n",
              "      <td>0.840341</td>\n",
              "      <td>-0.704194</td>\n",
              "      <td>-1.691253</td>\n",
              "      <td>-0.33574</td>\n",
              "      <td>-0.605589</td>\n",
              "      <td>-0.166888</td>\n",
              "      <td>-0.561401</td>\n",
              "      <td>0.298086</td>\n",
              "      <td>0.606891</td>\n",
              "      <td>0.070378</td>\n",
              "    </tr>\n",
              "    <tr>\n",
              "      <th>363</th>\n",
              "      <td>0.733690</td>\n",
              "      <td>0.53104</td>\n",
              "      <td>-1.189993</td>\n",
              "      <td>-0.704194</td>\n",
              "      <td>0.591278</td>\n",
              "      <td>-0.33574</td>\n",
              "      <td>-0.282284</td>\n",
              "      <td>-0.547035</td>\n",
              "      <td>-0.537013</td>\n",
              "      <td>0.298086</td>\n",
              "      <td>0.606891</td>\n",
              "      <td>1.350139</td>\n",
              "    </tr>\n",
              "    <tr>\n",
              "      <th>328</th>\n",
              "      <td>0.484426</td>\n",
              "      <td>0.53104</td>\n",
              "      <td>0.840341</td>\n",
              "      <td>2.428412</td>\n",
              "      <td>0.591278</td>\n",
              "      <td>-0.33574</td>\n",
              "      <td>0.703567</td>\n",
              "      <td>-0.547035</td>\n",
              "      <td>1.596870</td>\n",
              "      <td>0.298086</td>\n",
              "      <td>0.606891</td>\n",
              "      <td>-1.209384</td>\n",
              "    </tr>\n",
              "    <tr>\n",
              "      <th>33</th>\n",
              "      <td>-1.538670</td>\n",
              "      <td>0.53104</td>\n",
              "      <td>0.840341</td>\n",
              "      <td>-0.704194</td>\n",
              "      <td>0.591278</td>\n",
              "      <td>-0.33574</td>\n",
              "      <td>-0.513584</td>\n",
              "      <td>-0.547035</td>\n",
              "      <td>-0.841854</td>\n",
              "      <td>0.298086</td>\n",
              "      <td>0.606891</td>\n",
              "      <td>1.350139</td>\n",
              "    </tr>\n",
              "    <tr>\n",
              "      <th>428</th>\n",
              "      <td>1.145266</td>\n",
              "      <td>0.53104</td>\n",
              "      <td>0.840341</td>\n",
              "      <td>1.384210</td>\n",
              "      <td>0.591278</td>\n",
              "      <td>-0.33574</td>\n",
              "      <td>-0.323404</td>\n",
              "      <td>1.065575</td>\n",
              "      <td>1.206674</td>\n",
              "      <td>0.298086</td>\n",
              "      <td>0.606891</td>\n",
              "      <td>-1.209384</td>\n",
              "    </tr>\n",
              "    <tr>\n",
              "      <th>...</th>\n",
              "      <td>...</td>\n",
              "      <td>...</td>\n",
              "      <td>...</td>\n",
              "      <td>...</td>\n",
              "      <td>...</td>\n",
              "      <td>...</td>\n",
              "      <td>...</td>\n",
              "      <td>...</td>\n",
              "      <td>...</td>\n",
              "      <td>...</td>\n",
              "      <td>...</td>\n",
              "      <td>...</td>\n",
              "    </tr>\n",
              "    <tr>\n",
              "      <th>71</th>\n",
              "      <td>-1.289406</td>\n",
              "      <td>0.53104</td>\n",
              "      <td>-1.189993</td>\n",
              "      <td>-0.704194</td>\n",
              "      <td>0.591278</td>\n",
              "      <td>-0.33574</td>\n",
              "      <td>-0.519409</td>\n",
              "      <td>0.377221</td>\n",
              "      <td>-0.098043</td>\n",
              "      <td>0.298086</td>\n",
              "      <td>0.606891</td>\n",
              "      <td>0.070378</td>\n",
              "    </tr>\n",
              "    <tr>\n",
              "      <th>106</th>\n",
              "      <td>-1.063330</td>\n",
              "      <td>0.53104</td>\n",
              "      <td>0.840341</td>\n",
              "      <td>-0.704194</td>\n",
              "      <td>-1.691253</td>\n",
              "      <td>-0.33574</td>\n",
              "      <td>-0.188051</td>\n",
              "      <td>0.188426</td>\n",
              "      <td>0.609187</td>\n",
              "      <td>0.298086</td>\n",
              "      <td>0.606891</td>\n",
              "      <td>-1.209384</td>\n",
              "    </tr>\n",
              "    <tr>\n",
              "      <th>270</th>\n",
              "      <td>0.049663</td>\n",
              "      <td>0.53104</td>\n",
              "      <td>0.840341</td>\n",
              "      <td>1.384210</td>\n",
              "      <td>0.591278</td>\n",
              "      <td>-0.33574</td>\n",
              "      <td>-0.287938</td>\n",
              "      <td>-0.547035</td>\n",
              "      <td>-0.293141</td>\n",
              "      <td>0.298086</td>\n",
              "      <td>0.606891</td>\n",
              "      <td>0.070378</td>\n",
              "    </tr>\n",
              "    <tr>\n",
              "      <th>435</th>\n",
              "      <td>1.185843</td>\n",
              "      <td>0.53104</td>\n",
              "      <td>0.840341</td>\n",
              "      <td>1.384210</td>\n",
              "      <td>0.591278</td>\n",
              "      <td>-0.33574</td>\n",
              "      <td>-0.362296</td>\n",
              "      <td>0.196095</td>\n",
              "      <td>0.048280</td>\n",
              "      <td>0.298086</td>\n",
              "      <td>0.606891</td>\n",
              "      <td>1.350139</td>\n",
              "    </tr>\n",
              "    <tr>\n",
              "      <th>102</th>\n",
              "      <td>-1.086517</td>\n",
              "      <td>0.53104</td>\n",
              "      <td>0.840341</td>\n",
              "      <td>-0.704194</td>\n",
              "      <td>0.591278</td>\n",
              "      <td>-0.33574</td>\n",
              "      <td>0.046162</td>\n",
              "      <td>0.426885</td>\n",
              "      <td>0.438476</td>\n",
              "      <td>0.298086</td>\n",
              "      <td>0.606891</td>\n",
              "      <td>-1.209384</td>\n",
              "    </tr>\n",
              "  </tbody>\n",
              "</table>\n",
              "<p>462 rows × 12 columns</p>\n",
              "</div>"
            ],
            "text/plain": [
              "           0        1         2         3         4        5         6   \\\n",
              "137 -0.854644  0.53104  0.840341 -0.704194 -1.691253 -0.33574 -0.605589   \n",
              "363  0.733690  0.53104 -1.189993 -0.704194  0.591278 -0.33574 -0.282284   \n",
              "328  0.484426  0.53104  0.840341  2.428412  0.591278 -0.33574  0.703567   \n",
              "33  -1.538670  0.53104  0.840341 -0.704194  0.591278 -0.33574 -0.513584   \n",
              "428  1.145266  0.53104  0.840341  1.384210  0.591278 -0.33574 -0.323404   \n",
              "..        ...      ...       ...       ...       ...      ...       ...   \n",
              "71  -1.289406  0.53104 -1.189993 -0.704194  0.591278 -0.33574 -0.519409   \n",
              "106 -1.063330  0.53104  0.840341 -0.704194 -1.691253 -0.33574 -0.188051   \n",
              "270  0.049663  0.53104  0.840341  1.384210  0.591278 -0.33574 -0.287938   \n",
              "435  1.185843  0.53104  0.840341  1.384210  0.591278 -0.33574 -0.362296   \n",
              "102 -1.086517  0.53104  0.840341 -0.704194  0.591278 -0.33574  0.046162   \n",
              "\n",
              "           7         8         9         10        11  \n",
              "137 -0.166888 -0.561401  0.298086  0.606891  0.070378  \n",
              "363 -0.547035 -0.537013  0.298086  0.606891  1.350139  \n",
              "328 -0.547035  1.596870  0.298086  0.606891 -1.209384  \n",
              "33  -0.547035 -0.841854  0.298086  0.606891  1.350139  \n",
              "428  1.065575  1.206674  0.298086  0.606891 -1.209384  \n",
              "..        ...       ...       ...       ...       ...  \n",
              "71   0.377221 -0.098043  0.298086  0.606891  0.070378  \n",
              "106  0.188426  0.609187  0.298086  0.606891 -1.209384  \n",
              "270 -0.547035 -0.293141  0.298086  0.606891  0.070378  \n",
              "435  0.196095  0.048280  0.298086  0.606891  1.350139  \n",
              "102  0.426885  0.438476  0.298086  0.606891 -1.209384  \n",
              "\n",
              "[462 rows x 12 columns]"
            ]
          },
          "execution_count": 45,
          "metadata": {},
          "output_type": "execute_result"
        }
      ],
      "source": [
        "x_train\n"
      ]
    },
    {
      "cell_type": "code",
      "execution_count": null,
      "id": "b831fcb4",
      "metadata": {
        "id": "b831fcb4",
        "outputId": "604c826b-bdd3-456c-c19a-b0cb2273d927"
      },
      "outputs": [
        {
          "data": {
            "text/html": [
              "<div>\n",
              "<style scoped>\n",
              "    .dataframe tbody tr th:only-of-type {\n",
              "        vertical-align: middle;\n",
              "    }\n",
              "\n",
              "    .dataframe tbody tr th {\n",
              "        vertical-align: top;\n",
              "    }\n",
              "\n",
              "    .dataframe thead th {\n",
              "        text-align: right;\n",
              "    }\n",
              "</style>\n",
              "<table border=\"1\" class=\"dataframe\">\n",
              "  <thead>\n",
              "    <tr style=\"text-align: right;\">\n",
              "      <th></th>\n",
              "      <th>0</th>\n",
              "      <th>1</th>\n",
              "      <th>2</th>\n",
              "      <th>3</th>\n",
              "      <th>4</th>\n",
              "      <th>5</th>\n",
              "      <th>6</th>\n",
              "      <th>7</th>\n",
              "      <th>8</th>\n",
              "      <th>9</th>\n",
              "      <th>10</th>\n",
              "      <th>11</th>\n",
              "    </tr>\n",
              "  </thead>\n",
              "  <tbody>\n",
              "    <tr>\n",
              "      <th>380</th>\n",
              "      <td>0.855424</td>\n",
              "      <td>0.531040</td>\n",
              "      <td>0.840341</td>\n",
              "      <td>1.384210</td>\n",
              "      <td>0.591278</td>\n",
              "      <td>-0.33574</td>\n",
              "      <td>-0.263609</td>\n",
              "      <td>-0.547035</td>\n",
              "      <td>-0.585788</td>\n",
              "      <td>0.298086</td>\n",
              "      <td>0.606891</td>\n",
              "      <td>0.070378</td>\n",
              "    </tr>\n",
              "    <tr>\n",
              "      <th>675</th>\n",
              "      <td>1.145266</td>\n",
              "      <td>0.531040</td>\n",
              "      <td>-1.189993</td>\n",
              "      <td>-0.704194</td>\n",
              "      <td>-1.691253</td>\n",
              "      <td>-0.33574</td>\n",
              "      <td>-0.303529</td>\n",
              "      <td>-0.063909</td>\n",
              "      <td>-0.500433</td>\n",
              "      <td>0.298086</td>\n",
              "      <td>-1.647742</td>\n",
              "      <td>-1.209384</td>\n",
              "    </tr>\n",
              "    <tr>\n",
              "      <th>257</th>\n",
              "      <td>-0.048883</td>\n",
              "      <td>0.531040</td>\n",
              "      <td>0.840341</td>\n",
              "      <td>0.340008</td>\n",
              "      <td>0.591278</td>\n",
              "      <td>-0.33574</td>\n",
              "      <td>-0.579718</td>\n",
              "      <td>0.521100</td>\n",
              "      <td>-0.378496</td>\n",
              "      <td>0.298086</td>\n",
              "      <td>0.606891</td>\n",
              "      <td>1.350139</td>\n",
              "    </tr>\n",
              "    <tr>\n",
              "      <th>338</th>\n",
              "      <td>0.577175</td>\n",
              "      <td>-1.883097</td>\n",
              "      <td>-1.189993</td>\n",
              "      <td>-0.704194</td>\n",
              "      <td>-1.691253</td>\n",
              "      <td>-0.33574</td>\n",
              "      <td>-0.545623</td>\n",
              "      <td>-0.547035</td>\n",
              "      <td>-0.951596</td>\n",
              "      <td>0.298086</td>\n",
              "      <td>0.606891</td>\n",
              "      <td>-1.209384</td>\n",
              "    </tr>\n",
              "    <tr>\n",
              "      <th>319</th>\n",
              "      <td>0.409067</td>\n",
              "      <td>0.531040</td>\n",
              "      <td>-1.189993</td>\n",
              "      <td>-0.704194</td>\n",
              "      <td>0.591278</td>\n",
              "      <td>-0.33574</td>\n",
              "      <td>-0.398962</td>\n",
              "      <td>-0.547035</td>\n",
              "      <td>-0.890628</td>\n",
              "      <td>2.149983</td>\n",
              "      <td>0.606891</td>\n",
              "      <td>1.350139</td>\n",
              "    </tr>\n",
              "    <tr>\n",
              "      <th>...</th>\n",
              "      <td>...</td>\n",
              "      <td>...</td>\n",
              "      <td>...</td>\n",
              "      <td>...</td>\n",
              "      <td>...</td>\n",
              "      <td>...</td>\n",
              "      <td>...</td>\n",
              "      <td>...</td>\n",
              "      <td>...</td>\n",
              "      <td>...</td>\n",
              "      <td>...</td>\n",
              "      <td>...</td>\n",
              "    </tr>\n",
              "    <tr>\n",
              "      <th>234</th>\n",
              "      <td>-0.182210</td>\n",
              "      <td>0.531040</td>\n",
              "      <td>0.840341</td>\n",
              "      <td>-0.704194</td>\n",
              "      <td>0.591278</td>\n",
              "      <td>-0.33574</td>\n",
              "      <td>-0.240650</td>\n",
              "      <td>0.648546</td>\n",
              "      <td>0.767704</td>\n",
              "      <td>0.298086</td>\n",
              "      <td>0.606891</td>\n",
              "      <td>0.070378</td>\n",
              "    </tr>\n",
              "    <tr>\n",
              "      <th>645</th>\n",
              "      <td>0.269943</td>\n",
              "      <td>-1.883097</td>\n",
              "      <td>0.840341</td>\n",
              "      <td>-0.704194</td>\n",
              "      <td>0.591278</td>\n",
              "      <td>-0.33574</td>\n",
              "      <td>-0.182397</td>\n",
              "      <td>0.348007</td>\n",
              "      <td>-0.415077</td>\n",
              "      <td>0.298086</td>\n",
              "      <td>0.606891</td>\n",
              "      <td>1.350139</td>\n",
              "    </tr>\n",
              "    <tr>\n",
              "      <th>271</th>\n",
              "      <td>0.055460</td>\n",
              "      <td>0.531040</td>\n",
              "      <td>0.840341</td>\n",
              "      <td>-0.704194</td>\n",
              "      <td>0.591278</td>\n",
              "      <td>-0.33574</td>\n",
              "      <td>-0.572179</td>\n",
              "      <td>0.232247</td>\n",
              "      <td>-0.683337</td>\n",
              "      <td>0.298086</td>\n",
              "      <td>0.606891</td>\n",
              "      <td>1.350139</td>\n",
              "    </tr>\n",
              "    <tr>\n",
              "      <th>606</th>\n",
              "      <td>0.391677</td>\n",
              "      <td>-1.883097</td>\n",
              "      <td>-1.189993</td>\n",
              "      <td>-0.704194</td>\n",
              "      <td>-1.691253</td>\n",
              "      <td>-0.33574</td>\n",
              "      <td>-0.130140</td>\n",
              "      <td>-0.547035</td>\n",
              "      <td>-0.597981</td>\n",
              "      <td>0.298086</td>\n",
              "      <td>0.606891</td>\n",
              "      <td>-1.209384</td>\n",
              "    </tr>\n",
              "    <tr>\n",
              "      <th>286</th>\n",
              "      <td>0.165600</td>\n",
              "      <td>0.531040</td>\n",
              "      <td>0.840341</td>\n",
              "      <td>0.340008</td>\n",
              "      <td>0.591278</td>\n",
              "      <td>-0.33574</td>\n",
              "      <td>-0.025284</td>\n",
              "      <td>-0.295795</td>\n",
              "      <td>0.194604</td>\n",
              "      <td>0.298086</td>\n",
              "      <td>0.606891</td>\n",
              "      <td>-1.209384</td>\n",
              "    </tr>\n",
              "  </tbody>\n",
              "</table>\n",
              "<p>229 rows × 12 columns</p>\n",
              "</div>"
            ],
            "text/plain": [
              "           0         1         2         3         4        5         6   \\\n",
              "380  0.855424  0.531040  0.840341  1.384210  0.591278 -0.33574 -0.263609   \n",
              "675  1.145266  0.531040 -1.189993 -0.704194 -1.691253 -0.33574 -0.303529   \n",
              "257 -0.048883  0.531040  0.840341  0.340008  0.591278 -0.33574 -0.579718   \n",
              "338  0.577175 -1.883097 -1.189993 -0.704194 -1.691253 -0.33574 -0.545623   \n",
              "319  0.409067  0.531040 -1.189993 -0.704194  0.591278 -0.33574 -0.398962   \n",
              "..        ...       ...       ...       ...       ...      ...       ...   \n",
              "234 -0.182210  0.531040  0.840341 -0.704194  0.591278 -0.33574 -0.240650   \n",
              "645  0.269943 -1.883097  0.840341 -0.704194  0.591278 -0.33574 -0.182397   \n",
              "271  0.055460  0.531040  0.840341 -0.704194  0.591278 -0.33574 -0.572179   \n",
              "606  0.391677 -1.883097 -1.189993 -0.704194 -1.691253 -0.33574 -0.130140   \n",
              "286  0.165600  0.531040  0.840341  0.340008  0.591278 -0.33574 -0.025284   \n",
              "\n",
              "           7         8         9         10        11  \n",
              "380 -0.547035 -0.585788  0.298086  0.606891  0.070378  \n",
              "675 -0.063909 -0.500433  0.298086 -1.647742 -1.209384  \n",
              "257  0.521100 -0.378496  0.298086  0.606891  1.350139  \n",
              "338 -0.547035 -0.951596  0.298086  0.606891 -1.209384  \n",
              "319 -0.547035 -0.890628  2.149983  0.606891  1.350139  \n",
              "..        ...       ...       ...       ...       ...  \n",
              "234  0.648546  0.767704  0.298086  0.606891  0.070378  \n",
              "645  0.348007 -0.415077  0.298086  0.606891  1.350139  \n",
              "271  0.232247 -0.683337  0.298086  0.606891  1.350139  \n",
              "606 -0.547035 -0.597981  0.298086  0.606891 -1.209384  \n",
              "286 -0.295795  0.194604  0.298086  0.606891 -1.209384  \n",
              "\n",
              "[229 rows x 12 columns]"
            ]
          },
          "execution_count": 46,
          "metadata": {},
          "output_type": "execute_result"
        }
      ],
      "source": [
        "x_test\n"
      ]
    },
    {
      "cell_type": "code",
      "execution_count": null,
      "id": "412a7630",
      "metadata": {
        "id": "412a7630",
        "outputId": "5b9e9436-300e-46f4-e9a2-f8dc4227ac20"
      },
      "outputs": [
        {
          "data": {
            "text/plain": [
              "137    1\n",
              "363    1\n",
              "328    1\n",
              "33     1\n",
              "428    1\n",
              "      ..\n",
              "71     1\n",
              "106    1\n",
              "270    1\n",
              "435    1\n",
              "102    1\n",
              "Name: Loan_Status, Length: 462, dtype: int64"
            ]
          },
          "execution_count": 47,
          "metadata": {},
          "output_type": "execute_result"
        }
      ],
      "source": [
        "y_train\n"
      ]
    },
    {
      "cell_type": "code",
      "execution_count": null,
      "id": "1a4bc582",
      "metadata": {
        "id": "1a4bc582",
        "outputId": "f7e48cc8-6761-4ff2-a270-a59b817c450b"
      },
      "outputs": [
        {
          "data": {
            "text/plain": [
              "380    1\n",
              "675    0\n",
              "257    0\n",
              "338    1\n",
              "319    0\n",
              "      ..\n",
              "234    1\n",
              "645    0\n",
              "271    1\n",
              "606    0\n",
              "286    1\n",
              "Name: Loan_Status, Length: 229, dtype: int64"
            ]
          },
          "execution_count": 48,
          "metadata": {},
          "output_type": "execute_result"
        }
      ],
      "source": [
        "y_test\n"
      ]
    },
    {
      "cell_type": "code",
      "execution_count": null,
      "id": "993c3792",
      "metadata": {
        "id": "993c3792"
      },
      "outputs": [],
      "source": []
    },
    {
      "cell_type": "code",
      "execution_count": null,
      "id": "70a7ac52",
      "metadata": {
        "id": "70a7ac52"
      },
      "outputs": [],
      "source": []
    },
    {
      "cell_type": "code",
      "execution_count": null,
      "id": "ca4d246c",
      "metadata": {
        "id": "ca4d246c"
      },
      "outputs": [],
      "source": []
    },
    {
      "cell_type": "code",
      "execution_count": null,
      "id": "4dc13710",
      "metadata": {
        "id": "4dc13710"
      },
      "outputs": [],
      "source": []
    }
  ],
  "metadata": {
    "kernelspec": {
      "display_name": "Python 3 (ipykernel)",
      "language": "python",
      "name": "python3"
    },
    "language_info": {
      "codemirror_mode": {
        "name": "ipython",
        "version": 3
      },
      "file_extension": ".py",
      "mimetype": "text/x-python",
      "name": "python",
      "nbconvert_exporter": "python",
      "pygments_lexer": "ipython3",
      "version": "3.9.13"
    },
    "colab": {
      "provenance": []
    }
  },
  "nbformat": 4,
  "nbformat_minor": 5
}