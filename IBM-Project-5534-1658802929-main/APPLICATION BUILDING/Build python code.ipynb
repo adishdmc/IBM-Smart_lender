{
  "cells": [
    {
      "cell_type": "code",
      "execution_count": null,
      "id": "769a2d1e",
      "metadata": {
        "id": "769a2d1e"
      },
      "outputs": [],
      "source": [
        "import pickle\n",
        "loaded_class = pickle.load(open('randomclass_chronic', 'rb'))\n",
        "loaded_reg = pickle.load(open('randomreg_chronic', 'rb'))"
      ]
    },
    {
      "cell_type": "code",
      "execution_count": null,
      "id": "bc0f8aa9",
      "metadata": {
        "id": "bc0f8aa9"
      },
      "outputs": [],
      "source": [
        "import numpy as np\n",
        "import pandas as pd\n",
        "import flask"
      ]
    },
    {
      "cell_type": "code",
      "execution_count": null,
      "id": "cb78b555",
      "metadata": {
        "scrolled": true,
        "colab": {
          "base_uri": "https://localhost:8080/"
        },
        "id": "cb78b555",
        "outputId": "04a32edb-4225-4efa-87b1-fd42c4fd9a1f"
      },
      "outputs": [
        {
          "output_type": "stream",
          "name": "stdout",
          "text": [
            " * Serving Flask app \"__main__\" (lazy loading)\n",
            " * Environment: production\n",
            "\u001b[31m   WARNING: This is a development server. Do not use it in a production deployment.\u001b[0m\n",
            "\u001b[2m   Use a production WSGI server instead.\u001b[0m\n",
            " * Debug mode: off\n"
          ]
        },
        {
          "output_type": "stream",
          "name": "stderr",
          "text": [
            "INFO:werkzeug: * Running on http://127.0.0.1:5000/ (Press CTRL+C to quit)\n"
          ]
        }
      ],
      "source": [
        "from flask import Flask, request, redirect, render_template\n",
        "app = Flask(__name__)\n",
        "@app.route(\"/\",methods=['GET', 'POST'])\n",
        "def index():\n",
        "    return render_template('index.html')\n",
        "@app.route(\"/val\",methods=['POST'])\n",
        "\n",
        "def val():\n",
        "    test=[]\n",
        "    if request.method == 'POST':\n",
        "        test.append(request.form.get(\"age\"))\n",
        "        test.append(request.form.get(\"bp\"))\n",
        "        test.append(request.form.get(\"sg\"))\n",
        "        test.append(request.form.get(\"al\"))\n",
        "        test.append(request.form.get(\"su\"))\n",
        "        rb=request.form.get(\"rbc\")\n",
        "        if rb=='abnormal':\n",
        "            test.append(1)\n",
        "        else:\n",
        "            test.append(0)\n",
        "        pc=request.form.get(\"pc\")\n",
        "        if pc=='abnormal':\n",
        "            test.append(1)\n",
        "        else:\n",
        "            test.append(0)\n",
        "        pcc=request.form.get(\"pcc\")\n",
        "        if pcc=='present':\n",
        "            test.append(1)\n",
        "        else:\n",
        "            test.append(0)\n",
        "        ba=request.form.get(\"ba\")\n",
        "        if ba=='present':\n",
        "            test.append(1)\n",
        "        else:\n",
        "            test.append(0)\n",
        "        test.append(request.form.get(\"bgr\"))\n",
        "        test.append(request.form.get(\"bu\"))\n",
        "        test.append(request.form.get(\"sc\"))\n",
        "        test.append(request.form.get(\"sod\"))\n",
        "        test.append(request.form.get(\"pot\"))\n",
        "        test.append(request.form.get(\"hemo\"))\n",
        "        test.append(request.form.get(\"pcv\"))\n",
        "        test.append(request.form.get(\"wc\"))\n",
        "        test.append(request.form.get(\"rc\"))\n",
        "        ht=request.form.get(\"htn\")\n",
        "        if ht=='yes':\n",
        "            test.append(1)\n",
        "        else:\n",
        "            test.append(0)\n",
        "        d=request.form.get(\"dm\")\n",
        "        if d=='yes':\n",
        "            test.append(1)\n",
        "        else:\n",
        "            test.append(0)\n",
        "        ca=request.form.get(\"cad\")\n",
        "        if ca=='yes':\n",
        "            test.append(1)\n",
        "        else:\n",
        "            test.append(0)\n",
        "        ap=request.form.get(\"appet\")\n",
        "        if ap=='good':\n",
        "            test.append(1)\n",
        "        elif ap=='poor':\n",
        "            test.append(0)\n",
        "        else:\n",
        "            test.append(np.nan)\n",
        "        p=request.form.get(\"pe\")\n",
        "        if p=='yes':\n",
        "            test.append(1)\n",
        "        else:\n",
        "            test.append(0)\n",
        "        an=request.form.get(\"ane\")\n",
        "        if an=='yes':\n",
        "            test.append(1)\n",
        "        else:\n",
        "            test.append(0)\n",
        "    print(test)\n",
        "    test_df=pd.DataFrame(test)\n",
        "    test_df=np.array(test_df).reshape(1, -1)\n",
        "    \n",
        "    ans1=loaded_class.predict(test_df)\n",
        "    ans2=loaded_reg.predict(test_df)\n",
        "    if int(ans1)>=0.5:\n",
        "        answer1=\"Sorry to say!! You have CHRONIC DISEASE!!!\"\n",
        "        return render_template('rename.html',answer1=answer1,answer2=ans2)\n",
        "    else:\n",
        "        answer1=\"Happy to say that you don't have CHRONIC DISEASE\"\n",
        "\n",
        "        return render_template('rename2.html',answer1=answer1,answer2=ans2)\n",
        "    \n",
        "if __name__ == \"__main__\":\n",
        "    app.debug=True\n",
        "    app.run(debug=False)"
      ]
    }
  ],
  "metadata": {
    "kernelspec": {
      "display_name": "Python 3.11.0 64-bit",
      "language": "python",
      "name": "python3"
    },
    "language_info": {
      "codemirror_mode": {
        "name": "ipython",
        "version": 3
      },
      "file_extension": ".py",
      "mimetype": "text/x-python",
      "name": "python",
      "nbconvert_exporter": "python",
      "pygments_lexer": "ipython3",
      "version": "3.11.0"
    },
    "vscode": {
      "interpreter": {
        "hash": "5238573367df39f7286bb46f9ff5f08f63a01a80960060ce41e3c79b190280fa"
      }
    },
    "colab": {
      "provenance": []
    }
  },
  "nbformat": 4,
  "nbformat_minor": 5
}